{
 "cells": [
  {
   "cell_type": "code",
   "execution_count": null,
   "id": "747a324d-92b7-4784-8ccc-2ffa1575ad2c",
   "metadata": {},
   "outputs": [],
   "source": [
    "exercice 1"
   ]
  },
  {
   "cell_type": "code",
   "execution_count": 2,
   "id": "c828a727-cfe9-4d5a-bf6c-f5bd905f2375",
   "metadata": {},
   "outputs": [
    {
     "ename": "SyntaxError",
     "evalue": "invalid syntax (2217697142.py, line 1)",
     "output_type": "error",
     "traceback": [
      "\u001b[1;36m  Cell \u001b[1;32mIn[2], line 1\u001b[1;36m\u001b[0m\n\u001b[1;33m    1. Liste de nombres multipliés par 2\u001b[0m\n\u001b[1;37m       ^\u001b[0m\n\u001b[1;31mSyntaxError\u001b[0m\u001b[1;31m:\u001b[0m invalid syntax\n"
     ]
    }
   ],
   "source": [
    "1. Liste de nombres multipliés par 2"
   ]
  },
  {
   "cell_type": "code",
   "execution_count": 1,
   "id": "8c1f562c-7f8c-4e44-bdf4-646a442b237b",
   "metadata": {},
   "outputs": [
    {
     "name": "stdout",
     "output_type": "stream",
     "text": [
      "2\n",
      "4\n",
      "6\n",
      "8\n",
      "10\n",
      "12\n",
      "14\n",
      "16\n",
      "18\n",
      "20\n"
     ]
    }
   ],
   "source": [
    "liste = [i for i in range(1, 11)]\n",
    "for nombre in liste:\n",
    "    print(nombre * 2)"
   ]
  },
  {
   "cell_type": "code",
   "execution_count": null,
   "id": "c05f6f7d-268e-441a-8412-a2e14e7351a4",
   "metadata": {},
   "outputs": [],
   "source": [
    "2. Longueur de chaque nom"
   ]
  },
  {
   "cell_type": "code",
   "execution_count": 3,
   "id": "b55b01a5-6c45-40f4-9277-4690d4b42810",
   "metadata": {},
   "outputs": [
    {
     "name": "stdout",
     "output_type": "stream",
     "text": [
      "khalil 6\n",
      "ifra 4\n",
      "ibra 4\n",
      "ibrahima 8\n"
     ]
    }
   ],
   "source": [
    "noms = [\"khalil\", \"ifra\", \"ibra\",\"ibrahima\"]\n",
    "for nom in noms:\n",
    "    print(nom, len(nom))\n"
   ]
  },
  {
   "cell_type": "code",
   "execution_count": null,
   "id": "e22494fe-ec84-44d1-8d95-faa647349c9e",
   "metadata": {},
   "outputs": [],
   "source": [
    "3. Carré des éléments d’une liste"
   ]
  },
  {
   "cell_type": "code",
   "execution_count": 16,
   "id": "3a21d813-8526-4d92-94d1-edc10be30018",
   "metadata": {},
   "outputs": [
    {
     "name": "stdout",
     "output_type": "stream",
     "text": [
      "[1, 4, 9, 16, 25]\n"
     ]
    }
   ],
   "source": [
    "def carre_elements(liste):\n",
    "    resultat = []\n",
    "    for nombre in liste:\n",
    "        resultat.append(nombre ** 2)\n",
    "    return resultat\n",
    "\n",
    "print(carre_elements([1, 2, 3, 4, 5]))\n"
   ]
  },
  {
   "cell_type": "code",
   "execution_count": null,
   "id": "2748b3b1-712c-4a5c-97a7-7a66fb83ffdb",
   "metadata": {},
   "outputs": [],
   "source": [
    "4. Affichage des nombres supérieurs à 5"
   ]
  },
  {
   "cell_type": "code",
   "execution_count": 19,
   "id": "611178ab-043e-4272-926a-07ab542b5b09",
   "metadata": {},
   "outputs": [
    {
     "name": "stdout",
     "output_type": "stream",
     "text": [
      "7\n",
      "7\n",
      "10\n",
      "8\n",
      "6\n",
      "9\n"
     ]
    }
   ],
   "source": [
    "import random\n",
    "\n",
    "liste_aleatoire = [random.randint(1, 10) for _ in range(10)]\n",
    "for nombre in liste_aleatoire:\n",
    "    if nombre > 5:\n",
    "        print(nombre)"
   ]
  },
  {
   "cell_type": "code",
   "execution_count": 18,
   "id": "4c4489bf-83e0-4c50-b3ac-a311118c9bfd",
   "metadata": {},
   "outputs": [
    {
     "data": {
      "text/plain": [
       "2"
      ]
     },
     "execution_count": 18,
     "metadata": {},
     "output_type": "execute_result"
    }
   ],
   "source": [
    "5. Affichage de la chaîne la plus longue"
   ]
  },
  {
   "cell_type": "code",
   "execution_count": 3,
   "id": "28e6a4ef-64c2-4af2-bf22-30c3ac4ce697",
   "metadata": {},
   "outputs": [
    {
     "name": "stdout",
     "output_type": "stream",
     "text": [
      "pastèque\n"
     ]
    }
   ],
   "source": [
    "def chaine_plus_longue(chaines):\n",
    "    return max(chaines, key=len)\n",
    "\n",
    "print(chaine_plus_longue([\"pomme\", \"banane\", \"cerise\", \"pastèque\"]))\n"
   ]
  },
  {
   "cell_type": "code",
   "execution_count": null,
   "id": "f5b4e9c8-aa98-475b-839d-908200665c60",
   "metadata": {},
   "outputs": [],
   "source": [
    "exercice 2"
   ]
  },
  {
   "cell_type": "code",
   "execution_count": null,
   "id": "5796f422-7a47-409e-966a-60db3d235fb9",
   "metadata": {},
   "outputs": [],
   "source": [
    "1. Éléments communs entre deux listes"
   ]
  },
  {
   "cell_type": "code",
   "execution_count": 22,
   "id": "cc4091e8-e563-4d08-ae55-2d72f58269ec",
   "metadata": {},
   "outputs": [
    {
     "name": "stdout",
     "output_type": "stream",
     "text": [
      "[3, 4]\n"
     ]
    }
   ],
   "source": [
    "def elements_communs(liste1, liste2):\n",
    "    communs = []\n",
    "    for elem in liste1:\n",
    "        if elem in liste2 and elem not in communs:\n",
    "            communs.append(elem)\n",
    "    return communs\n",
    "\n",
    "print(elements_communs([1, 2, 3, 4], [3, 4, 5, 6]))\n"
   ]
  },
  {
   "cell_type": "code",
   "execution_count": null,
   "id": "1c6b0fc6-ea25-44b5-9407-c68faf7c2c45",
   "metadata": {},
   "outputs": [],
   "source": [
    "2.Pair ou impair"
   ]
  },
  {
   "cell_type": "code",
   "execution_count": 23,
   "id": "252dcab6-ee07-46d4-9776-c63b16b44467",
   "metadata": {},
   "outputs": [
    {
     "name": "stdout",
     "output_type": "stream",
     "text": [
      "impair\n"
     ]
    }
   ],
   "source": [
    "def pair_ou_impair(nombre):\n",
    "    if nombre % 2 == 0:\n",
    "        return \"pair\"\n",
    "    else:\n",
    "        return \"impair\"\n",
    "\n",
    "print(pair_ou_impair(7))\n"
   ]
  },
  {
   "cell_type": "code",
   "execution_count": null,
   "id": "eea47683-cdbc-4e40-9835-9a00513ff246",
   "metadata": {},
   "outputs": [],
   "source": [
    "3. Somme des éléments d’une liste"
   ]
  },
  {
   "cell_type": "code",
   "execution_count": 13,
   "id": "c374b763-b5cf-456e-9e35-c8db0fe60860",
   "metadata": {},
   "outputs": [
    {
     "name": "stdout",
     "output_type": "stream",
     "text": [
      "15\n"
     ]
    }
   ],
   "source": [
    "def somme_liste(liste):\n",
    "    somme = 0\n",
    "    for nombre in liste:\n",
    "        somme += nombre\n",
    "    return somme\n",
    "\n",
    "print(somme_liste([1, 2, 3, 4, 5]))\n"
   ]
  },
  {
   "cell_type": "code",
   "execution_count": null,
   "id": "21c9ebbc-b72b-4e40-9ce9-74db7ace4eb7",
   "metadata": {},
   "outputs": [],
   "source": [
    "4. Première lettre de chaque mot"
   ]
  },
  {
   "cell_type": "code",
   "execution_count": 27,
   "id": "4f191177-342a-4eba-83fb-52c8c73ef762",
   "metadata": {},
   "outputs": [
    {
     "name": "stdout",
     "output_type": "stream",
     "text": [
      "['m', 'f', 'd', 'b']\n"
     ]
    }
   ],
   "source": [
    "\n",
    "def premieres_lettres(liste):\n",
    "    lettres = []\n",
    "    for mot in liste:\n",
    "        if mot:\n",
    "            lettres.append(mot[0])\n",
    "    return lettres\n",
    "\n",
    "print(premieres_lettres([\"manger\", \"fait\", \"du\",\"bien\"]))\n"
   ]
  },
  {
   "cell_type": "code",
   "execution_count": null,
   "id": "d0a5e78b-4bf2-4e75-b2e1-c558251f94f9",
   "metadata": {},
   "outputs": [],
   "source": [
    "5. Supprimer les voyelles d’une chaîne"
   ]
  },
  {
   "cell_type": "code",
   "execution_count": 4,
   "id": "a49d3d12-d9bb-4b69-802c-1386c00017a9",
   "metadata": {},
   "outputs": [
    {
     "name": "stdout",
     "output_type": "stream",
     "text": [
      "Bnjr tt l mnd\n"
     ]
    }
   ],
   "source": [
    "def supprimer_voyelles(chaine):\n",
    "    voyelles = \"aeiouAEIOU\"\n",
    "    return \"\".join([lettre for lettre in chaine if lettre not in voyelles])\n",
    "\n",
    "print(supprimer_voyelles(\"Bonjour tout le monde\"))\n"
   ]
  },
  {
   "cell_type": "code",
   "execution_count": null,
   "id": "53227149-987e-4d16-910c-8b9a901f5746",
   "metadata": {},
   "outputs": [],
   "source": [
    "Exercice 3"
   ]
  },
  {
   "cell_type": "code",
   "execution_count": null,
   "id": "a43e8b43-6f39-4e76-9a50-b69ed2f46a3e",
   "metadata": {},
   "outputs": [],
   "source": [
    "1. Calcul de la médiane"
   ]
  },
  {
   "cell_type": "code",
   "execution_count": null,
   "id": "c11861be-38fe-49f4-b429-6c9d9795fa91",
   "metadata": {},
   "outputs": [],
   "source": [
    "def mediane(liste):\n",
    "    liste.sort()\n",
    "    milieu = len(liste) // 2\n",
    "    return (liste[milieu] if len(liste) % 2 != 0 else (liste[milieu - 1] + liste[milieu]) / 2)\n",
    "\n",
    "print(mediane([1, 3, 5, 2, 4]))\n"
   ]
  },
  {
   "cell_type": "code",
   "execution_count": null,
   "id": "0ff4b88a-fc5e-4b45-85ad-c9317c5042ca",
   "metadata": {},
   "outputs": [],
   "source": [
    "2. Chaînes de plus de 5 caractères"
   ]
  },
  {
   "cell_type": "code",
   "execution_count": 12,
   "id": "f6b18110-19ac-456f-8f53-43dc765e7a43",
   "metadata": {},
   "outputs": [
    {
     "name": "stdout",
     "output_type": "stream",
     "text": [
      "['éléphant', 'souris', 'hippopotame']\n"
     ]
    }
   ],
   "source": [
    "def longues_chaines(liste):\n",
    "    return [mot for mot in liste if len(mot) > 5]\n",
    "\n",
    "print(longues_chaines([\"chat\", \"éléphant\", \"souris\", \"hippopotame\"]))\n"
   ]
  },
  {
   "cell_type": "code",
   "execution_count": null,
   "id": "b54ed601-bc85-4a20-96a2-46bd29c143a8",
   "metadata": {},
   "outputs": [],
   "source": [
    "3. Moyenne sans sum"
   ]
  },
  {
   "cell_type": "code",
   "execution_count": 11,
   "id": "d6da47fc-d5ed-4fad-93b2-5c4e2c3f8185",
   "metadata": {},
   "outputs": [
    {
     "name": "stdout",
     "output_type": "stream",
     "text": [
      "30.0\n"
     ]
    }
   ],
   "source": [
    "def moyenne_liste(liste):\n",
    "    total = 0\n",
    "    for nombre in liste:\n",
    "        total += nombre\n",
    "    return total / len(liste)\n",
    "\n",
    "print(moyenne_liste([10, 20, 30, 40, 50]))\n"
   ]
  },
  {
   "cell_type": "code",
   "execution_count": null,
   "id": "e7d863ac-ddce-42f6-9e47-d15f8ae9cf5f",
   "metadata": {},
   "outputs": [],
   "source": [
    "4. Liste inversée"
   ]
  },
  {
   "cell_type": "code",
   "execution_count": 10,
   "id": "22331d9c-15f3-4e8d-bd99-272558148693",
   "metadata": {},
   "outputs": [
    {
     "name": "stdout",
     "output_type": "stream",
     "text": [
      "[5, 4, 3, 2, 1]\n"
     ]
    }
   ],
   "source": [
    "def inverser_liste(liste):\n",
    "    return liste[::-1]\n",
    "\n",
    "print(inverser_liste([1, 2, 3, 4, 5]))\n"
   ]
  },
  {
   "cell_type": "code",
   "execution_count": null,
   "id": "0228a778-58e4-430c-abaf-cf2b94547d8b",
   "metadata": {},
   "outputs": [],
   "source": [
    "5. Noms contenant \"a\""
   ]
  },
  {
   "cell_type": "code",
   "execution_count": 9,
   "id": "50df58f8-bf0e-4289-b4eb-a45165a53896",
   "metadata": {},
   "outputs": [
    {
     "name": "stdout",
     "output_type": "stream",
     "text": [
      "['Alice', 'Charlie', 'David']\n"
     ]
    }
   ],
   "source": [
    "noms = [\"Alice\", \"Bob\", \"Charlie\", \"David\"]\n",
    "print([nom for nom in noms if \"a\" in nom.lower()])\n"
   ]
  },
  {
   "cell_type": "code",
   "execution_count": null,
   "id": "5a70102e-b3f1-4aad-9f5f-1514ec83544d",
   "metadata": {},
   "outputs": [],
   "source": [
    "Exercice 4 "
   ]
  },
  {
   "cell_type": "code",
   "execution_count": null,
   "id": "8b60aa18-2e26-44ca-8d17-7ef5b5bd4620",
   "metadata": {},
   "outputs": [],
   "source": [
    "1. Suppression des doublons"
   ]
  },
  {
   "cell_type": "code",
   "execution_count": 8,
   "id": "51b4b3af-5943-485e-8bbc-a18b2805ebf8",
   "metadata": {},
   "outputs": [
    {
     "name": "stdout",
     "output_type": "stream",
     "text": [
      "[1, 2, 3, 4, 5]\n"
     ]
    }
   ],
   "source": [
    "def supprimer_doublons(liste):\n",
    "    return list(set(liste))\n",
    "\n",
    "print(supprimer_doublons([1, 2, 2, 3, 4, 4, 5]))\n"
   ]
  },
  {
   "cell_type": "code",
   "execution_count": null,
   "id": "4c104114-0c20-4a13-b094-674bbc62d7a3",
   "metadata": {},
   "outputs": [],
   "source": [
    "2. Génération de nombres premiers"
   ]
  },
  {
   "cell_type": "code",
   "execution_count": 7,
   "id": "f42e2e6e-a566-407f-902b-6464b30147a9",
   "metadata": {},
   "outputs": [
    {
     "name": "stdout",
     "output_type": "stream",
     "text": [
      "[2, 3, 5, 7, 11, 13, 17, 19]\n"
     ]
    }
   ],
   "source": [
    "def est_premier(n):\n",
    "    if n < 2:\n",
    "        return False\n",
    "    for i in range(2, int(n ** 0.5) + 1):\n",
    "        if n % i == 0:\n",
    "            return False\n",
    "    return True\n",
    "\n",
    "def nombres_premiers(jusqua):\n",
    "    return [n for n in range(2, jusqua + 1) if est_premier(n)]\n",
    "\n",
    "print(nombres_premiers(20))\n"
   ]
  },
  {
   "cell_type": "code",
   "execution_count": null,
   "id": "54a5e560-9332-410a-a606-c62c70c49adf",
   "metadata": {},
   "outputs": [],
   "source": [
    "3. Multiplication par 3 avec map"
   ]
  },
  {
   "cell_type": "code",
   "execution_count": 6,
   "id": "f6761410-feef-4e1e-9c7a-ce43e171f3c3",
   "metadata": {},
   "outputs": [
    {
     "name": "stdout",
     "output_type": "stream",
     "text": [
      "[3, 6, 9, 12, 15]\n"
     ]
    }
   ],
   "source": [
    "nombres = [1, 2, 3, 4, 5]\n",
    "resultat = list(map(lambda x: x * 3, nombres))\n",
    "print(resultat)\n"
   ]
  },
  {
   "cell_type": "code",
   "execution_count": null,
   "id": "bd087ab1-22f0-47d9-a8bb-b4f06d1488a6",
   "metadata": {},
   "outputs": [],
   "source": [
    "Exercice 5"
   ]
  },
  {
   "cell_type": "code",
   "execution_count": null,
   "id": "482c23c1-5c21-4ed5-bea7-c7bbf556002b",
   "metadata": {},
   "outputs": [],
   "source": [
    "Fréquence des lettres"
   ]
  },
  {
   "cell_type": "code",
   "execution_count": 5,
   "id": "fa084fc2-e6ca-40be-b912-de8216d87122",
   "metadata": {},
   "outputs": [
    {
     "name": "stdout",
     "output_type": "stream",
     "text": [
      "{'b': 1, 'o': 4, 'n': 2, 'j': 1, 'u': 2, 'r': 1, 't': 2, 'l': 1, 'e': 2, 'm': 1, 'd': 1}\n"
     ]
    }
   ],
   "source": [
    "def frequence_lettres(texte):\n",
    "    texte = texte.lower()\n",
    "    frequence = {}\n",
    "    for lettre in texte:\n",
    "        if lettre.isalpha():\n",
    "            frequence[lettre] = frequence.get(lettre, 0) + 1\n",
    "    return frequence\n",
    "\n",
    "print(frequence_lettres(\"Bonjour tout le monde\"))\n"
   ]
  },
  {
   "cell_type": "code",
   "execution_count": null,
   "id": "ec100683-d1f0-4084-bca7-999668fd4e32",
   "metadata": {},
   "outputs": [],
   "source": []
  }
 ],
 "metadata": {
  "kernelspec": {
   "display_name": "Python 3 (ipykernel)",
   "language": "python",
   "name": "python3"
  },
  "language_info": {
   "codemirror_mode": {
    "name": "ipython",
    "version": 3
   },
   "file_extension": ".py",
   "mimetype": "text/x-python",
   "name": "python",
   "nbconvert_exporter": "python",
   "pygments_lexer": "ipython3",
   "version": "3.12.7"
  }
 },
 "nbformat": 4,
 "nbformat_minor": 5
}
